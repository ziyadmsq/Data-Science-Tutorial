{
 "cells": [
  {
   "cell_type": "markdown",
   "metadata": {},
   "source": [
    "<a id=\"3\"></a> <br>\n",
    "### DICTIONARY\n",
    "Why we need dictionary?\n",
    "* It has 'key' and 'value'\n",
    "* Faster than lists\n",
    "<br>\n",
    "What is key and value. Example:\n",
    "* dictionary = {'spain' : 'madrid'}\n",
    "* Key is spain.\n",
    "* Values is madrid.\n",
    "<br>\n",
    "<br>**It's that easy.**\n",
    "<br>Lets practice some other properties like keys(), values(), update, add, check, remove key, remove all entries and remove dicrionary."
   ]
  },
  {
   "cell_type": "code",
   "execution_count": 2,
   "metadata": {},
   "outputs": [
    {
     "name": "stdout",
     "output_type": "stream",
     "text": [
      "dict_keys(['spain', 'usa'])\n",
      "dict_values(['madrid', 'vegas'])\n"
     ]
    }
   ],
   "source": [
    "#create dictionary and look its keys and values\n",
    "dictionary = {'spain' : 'madrid','usa' : 'vegas'}\n",
    "print(dictionary.keys())\n",
    "print(dictionary.values())"
   ]
  },
  {
   "cell_type": "code",
   "execution_count": 3,
   "metadata": {},
   "outputs": [
    {
     "name": "stdout",
     "output_type": "stream",
     "text": [
      "{'spain': 'barcelona', 'usa': 'vegas'}\n",
      "{'spain': 'barcelona', 'usa': 'vegas', 'france': 'paris'}\n",
      "{'usa': 'vegas', 'france': 'paris'}\n",
      "True\n",
      "{}\n"
     ]
    }
   ],
   "source": [
    "# Keys have to be immutable objects like string, boolean, float, integer or tubles\n",
    "# List is not immutable\n",
    "# Keys are unique\n",
    "dictionary['spain'] = \"barcelona\"    # update existing entry\n",
    "print(dictionary)\n",
    "dictionary['france'] = \"paris\"       # Add new entry\n",
    "print(dictionary)\n",
    "del dictionary['spain']              # remove entry with key 'spain'\n",
    "print(dictionary)\n",
    "print('france' in dictionary)        # check include or not\n",
    "dictionary.clear()                   # remove all entries in dict\n",
    "print(dictionary)"
   ]
  },
  {
   "cell_type": "code",
   "execution_count": 4,
   "metadata": {},
   "outputs": [
    {
     "name": "stdout",
     "output_type": "stream",
     "text": [
      "{}\n"
     ]
    }
   ],
   "source": [
    "# In order to run all code you need to take comment this line\n",
    "# del dictionary         # delete entire dictionary     \n",
    "print(dictionary)       # it gives error because dictionary is deleted"
   ]
  },
  {
   "cell_type": "markdown",
   "metadata": {},
   "source": [
    "<a id=\"6\"></a> <br>\n",
    "### WHILE and FOR LOOPS\n",
    "We will learn most basic while and for loops"
   ]
  },
  {
   "cell_type": "code",
   "execution_count": 6,
   "metadata": {},
   "outputs": [
    {
     "name": "stdout",
     "output_type": "stream",
     "text": [
      "i is:  0\n",
      "i is:  1\n",
      "i is:  2\n",
      "i is:  3\n",
      "i is:  4\n",
      "5  is equal to 5\n"
     ]
    }
   ],
   "source": [
    "# Stay in loop if condition( i is not equal 5) is true\n",
    "i = 0\n",
    "while i != 5 :\n",
    "    print('i is: ',i)\n",
    "    i +=1 \n",
    "print(i,' is equal to 5')"
   ]
  },
  {
   "cell_type": "code",
   "execution_count": 8,
   "metadata": {},
   "outputs": [
    {
     "name": "stdout",
     "output_type": "stream",
     "text": [
      "i is:  1\n",
      "i is:  2\n",
      "i is:  3\n",
      "i is:  4\n",
      "i is:  5\n",
      "\n",
      "0  :  1\n",
      "1  :  2\n",
      "2  :  3\n",
      "3  :  4\n",
      "4  :  5\n",
      "\n",
      "spain  :  madrid\n",
      "france  :  paris\n",
      "\n"
     ]
    }
   ],
   "source": [
    "# Stay in loop if condition( i is not equal 5) is true\n",
    "lis = [1,2,3,4,5]\n",
    "for i in lis:\n",
    "    print('i is: ',i)\n",
    "print('')\n",
    "\n",
    "# Enumerate index and value of list\n",
    "# index : value = 0:1, 1:2, 2:3, 3:4, 4:5\n",
    "for index, value in enumerate(lis):\n",
    "    print(index,\" : \",value)\n",
    "print('')   \n",
    "\n",
    "# For dictionaries\n",
    "# We can use for loop to achive key and value of dictionary. We learnt key and value at dictionary part.\n",
    "dictionary = {'spain':'madrid','france':'paris'}\n",
    "for key,value in dictionary.items():\n",
    "    print(key,\" : \",value)\n",
    "print('')\n",
    "\n"
   ]
  },
  {
   "cell_type": "markdown",
   "metadata": {},
   "source": [
    "<a id=\"8\"></a> <br>\n",
    "### USER DEFINED FUNCTION\n",
    "What we need to know about functions:\n",
    "* docstrings: documentation for functions. Example:\n",
    "<br>for f():\n",
    "    <br>\"\"\"This is docstring for documentation of function f\"\"\"\n",
    "* tuble: sequence of immutable python objects. \n",
    "<br>cant modify values\n",
    "<br>tuble uses paranthesis like tuble = (1,2,3)\n",
    "<br>unpack tuble into several variables like a,b,c = tuble\n",
    "    "
   ]
  },
  {
   "cell_type": "code",
   "execution_count": 9,
   "metadata": {},
   "outputs": [
    {
     "name": "stdout",
     "output_type": "stream",
     "text": [
      "1 2 3\n"
     ]
    }
   ],
   "source": [
    "# example of what we learn above\n",
    "def tuble_ex():\n",
    "    \"\"\" return defined t tuble\"\"\"\n",
    "    t = (1,2,3)\n",
    "    return t\n",
    "a,b,c = tuble_ex()\n",
    "print(a,b,c)"
   ]
  },
  {
   "cell_type": "markdown",
   "metadata": {},
   "source": [
    "<a id=\"9\"></a> <br>\n",
    "### SCOPE\n",
    "What we need to know about scope:\n",
    "* global: defined main body in script\n",
    "* local: defined in a function\n",
    "* built in scope: names in predefined built in scope module such as print, len\n",
    "<br><br>Lets make some basic examples"
   ]
  },
  {
   "cell_type": "code",
   "execution_count": 10,
   "metadata": {},
   "outputs": [
    {
     "name": "stdout",
     "output_type": "stream",
     "text": [
      "2\n",
      "3\n"
     ]
    }
   ],
   "source": [
    "# guess print what\n",
    "x = 2\n",
    "def f():\n",
    "    x = 3\n",
    "    return x\n",
    "print(x)      # x = 2 global scope\n",
    "print(f())    # x = 3 local scope"
   ]
  },
  {
   "cell_type": "code",
   "execution_count": 11,
   "metadata": {},
   "outputs": [
    {
     "name": "stdout",
     "output_type": "stream",
     "text": [
      "10\n"
     ]
    }
   ],
   "source": [
    "# What if there is no local scope\n",
    "x = 5\n",
    "def f():\n",
    "    y = 2*x        # there is no local scope x\n",
    "    return y\n",
    "print(f())         # it uses global scope x\n",
    "# First local scopesearched, then global scope searched, if two of them cannot be found lastly built in scope searched."
   ]
  },
  {
   "cell_type": "markdown",
   "metadata": {},
   "source": [
    "<a id=\"10\"></a> <br>\n",
    "### NESTED FUNCTION\n",
    "* function inside function.\n",
    "* There is a LEGB rule that is search local scope, enclosing function, global and built in scopes, respectively."
   ]
  },
  {
   "cell_type": "code",
   "execution_count": 13,
   "metadata": {},
   "outputs": [
    {
     "name": "stdout",
     "output_type": "stream",
     "text": [
      "25\n"
     ]
    }
   ],
   "source": [
    "#nested function\n",
    "def square():\n",
    "    \"\"\" return square of value \"\"\"\n",
    "    def add():\n",
    "        \"\"\" add two local variable \"\"\"\n",
    "        x = 2\n",
    "        y = 3\n",
    "        z = x + y\n",
    "        return z\n",
    "    return add()**2\n",
    "print(square()) "
   ]
  },
  {
   "cell_type": "markdown",
   "metadata": {},
   "source": [
    "<a id=\"11\"></a> <br>\n",
    "### DEFAULT and FLEXIBLE ARGUMENTS\n",
    "* Default argument example:\n",
    "<br> def f(a, b=1):\n",
    "        \"\"\" b = 1 is default argument\"\"\"\n",
    "* Flexible argument example:\n",
    "<br> def f(*args):\n",
    "       \"\"\" *args can be one or more\"\"\"\n",
    "<br>def f(** kwargs)\n",
    "       \"\"\" **kwargs is a dictionary\"\"\"\n",
    "       \n",
    "<br><br> lets write some code to practice  "
   ]
  },
  {
   "cell_type": "code",
   "execution_count": 14,
   "metadata": {},
   "outputs": [
    {
     "name": "stdout",
     "output_type": "stream",
     "text": [
      "8\n",
      "12\n"
     ]
    }
   ],
   "source": [
    "# default arguments\n",
    "def f(a, b = 1, c = 2):\n",
    "    y = a + b + c\n",
    "    return y\n",
    "print(f(5))\n",
    "# what if we want to change default arguments\n",
    "print(f(5,4,3))"
   ]
  },
  {
   "cell_type": "code",
   "execution_count": 15,
   "metadata": {},
   "outputs": [
    {
     "name": "stdout",
     "output_type": "stream",
     "text": [
      "1\n",
      "\n",
      "1\n",
      "2\n",
      "3\n",
      "4\n",
      "country   spain\n",
      "capital   madrid\n",
      "population   123456\n"
     ]
    }
   ],
   "source": [
    "# flexible arguments *args\n",
    "def f(*args):\n",
    "    for i in args:\n",
    "        print(i)\n",
    "f(1)\n",
    "print(\"\")\n",
    "f(1,2,3,4)\n",
    "# flexible arguments **kwargs that is dictionary\n",
    "def f(**kwargs):\n",
    "    \"\"\" print key and value of dictionary\"\"\"\n",
    "    for key, value in kwargs.items():               # If you do not understand this part turn for loop part and look at dictionary in for loop\n",
    "        print(key, \" \", value)\n",
    "f(country = 'spain', capital = 'madrid', population = 123456)"
   ]
  },
  {
   "cell_type": "markdown",
   "metadata": {},
   "source": [
    "<a id=\"12\"></a> <br>\n",
    "### LAMBDA FUNCTION\n",
    "Faster way of writing function"
   ]
  },
  {
   "cell_type": "code",
   "execution_count": 16,
   "metadata": {},
   "outputs": [
    {
     "name": "stdout",
     "output_type": "stream",
     "text": [
      "16\n",
      "6\n"
     ]
    }
   ],
   "source": [
    "# lambda function\n",
    "square = lambda x: x**2     # where x is name of argument\n",
    "print(square(4))\n",
    "tot = lambda x,y,z: x+y+z   # where x,y,z are names of arguments\n",
    "print(tot(1,2,3))"
   ]
  },
  {
   "cell_type": "markdown",
   "metadata": {},
   "source": [
    "<a id=\"13\"></a> <br>\n",
    "### ANONYMOUS FUNCTİON\n",
    "Like lambda function but it can take more than one arguments.\n",
    "* map(func,seq) : applies a function to all the items in a list\n",
    "\n"
   ]
  },
  {
   "cell_type": "code",
   "execution_count": 18,
   "metadata": {},
   "outputs": [
    {
     "name": "stdout",
     "output_type": "stream",
     "text": [
      "[1, 4, 9]\n"
     ]
    }
   ],
   "source": [
    "number_list = [1,2,3]\n",
    "y = map(lambda x:x**2,number_list)\n",
    "print(list(y))"
   ]
  },
  {
   "cell_type": "markdown",
   "metadata": {},
   "source": [
    "<a id=\"14\"></a> <br>\n",
    "### ITERATORS\n",
    "* iterable is an object that can return an iterator\n",
    "* iterable: an object with an associated iter() method\n",
    "<br> example: list, strings and dictionaries\n",
    "* iterator: produces next value with next() method"
   ]
  },
  {
   "cell_type": "code",
   "execution_count": 19,
   "metadata": {},
   "outputs": [
    {
     "name": "stdout",
     "output_type": "stream",
     "text": [
      "r\n",
      "o n a l d o\n"
     ]
    }
   ],
   "source": [
    "# iteration example\n",
    "name = \"ronaldo\"\n",
    "it = iter(name)\n",
    "print(next(it))    # print next iteration\n",
    "print(*it)         # print remaining iteration"
   ]
  },
  {
   "cell_type": "code",
   "execution_count": 20,
   "metadata": {},
   "outputs": [
    {
     "name": "stdout",
     "output_type": "stream",
     "text": [
      "<zip object at 0x10cd4e748>\n",
      "[(1, 5), (2, 6), (3, 7), (4, 8)]\n"
     ]
    }
   ],
   "source": [
    "# zip example\n",
    "list1 = [1,2,3,4]\n",
    "list2 = [5,6,7,8]\n",
    "z = zip(list1,list2)\n",
    "print(z)\n",
    "z_list = list(z)\n",
    "print(z_list)"
   ]
  },
  {
   "cell_type": "code",
   "execution_count": 21,
   "metadata": {},
   "outputs": [
    {
     "name": "stdout",
     "output_type": "stream",
     "text": [
      "(1, 2, 3, 4)\n",
      "(5, 6, 7, 8)\n",
      "<class 'tuple'>\n"
     ]
    }
   ],
   "source": [
    "un_zip = zip(*z_list)\n",
    "un_list1,un_list2 = list(un_zip) # unzip returns tuble\n",
    "print(un_list1)\n",
    "print(un_list2)\n",
    "print(type(un_list2))"
   ]
  },
  {
   "cell_type": "markdown",
   "metadata": {},
   "source": [
    "<a id=\"15\"></a> <br>\n",
    "### LIST COMPREHENSİON\n",
    "**One of the most important topic of this kernel**\n",
    "<br>We use list comprehension for data analysis often. \n",
    "<br> list comprehension: collapse for loops for building lists into a single line\n",
    "<br>Ex: num1 = [1,2,3] and we want to make it num2 = [2,3,4]. This can be done with for loop. However it is  unnecessarily long. We can make it one line code that is list comprehension."
   ]
  },
  {
   "cell_type": "code",
   "execution_count": 22,
   "metadata": {},
   "outputs": [
    {
     "name": "stdout",
     "output_type": "stream",
     "text": [
      "[2, 3, 4]\n"
     ]
    }
   ],
   "source": [
    "# Example of list comprehension\n",
    "num1 = [1,2,3]\n",
    "num2 = [i + 1 for i in num1 ]\n",
    "print(num2)"
   ]
  },
  {
   "cell_type": "markdown",
   "metadata": {},
   "source": [
    "[i + 1 for i in num1 ]: list of comprehension\n",
    "<br> i +1: list comprehension syntax\n",
    "<br> for i in num1: for loop syntax\n",
    "<br> i: iterator\n",
    "<br> num1: iterable object"
   ]
  },
  {
   "cell_type": "code",
   "execution_count": 24,
   "metadata": {},
   "outputs": [
    {
     "name": "stdout",
     "output_type": "stream",
     "text": [
      "[0, 100, 20]\n"
     ]
    }
   ],
   "source": [
    "# Conditionals on iterable\n",
    "num1 = [5,10,15]\n",
    "num2 = [i**2 if i == 10 else i-5 if i < 7 else i+5 for i in num1]\n",
    "print(num2)"
   ]
  },
  {
   "cell_type": "code",
   "execution_count": null,
   "metadata": {},
   "outputs": [],
   "source": []
  }
 ],
 "metadata": {
  "kernelspec": {
   "display_name": "Python 3",
   "language": "python",
   "name": "python3"
  },
  "language_info": {
   "codemirror_mode": {
    "name": "ipython",
    "version": 3
   },
   "file_extension": ".py",
   "mimetype": "text/x-python",
   "name": "python",
   "nbconvert_exporter": "python",
   "pygments_lexer": "ipython3",
   "version": "3.7.3"
  }
 },
 "nbformat": 4,
 "nbformat_minor": 4
}
